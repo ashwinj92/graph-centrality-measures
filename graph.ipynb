{
  "nbformat": 4,
  "nbformat_minor": 0,
  "metadata": {
    "colab": {
      "provenance": []
    },
    "kernelspec": {
      "name": "python3",
      "display_name": "Python 3"
    },
    "language_info": {
      "name": "python"
    }
  },
  "cells": [
    {
      "cell_type": "code",
      "metadata": {
        "colab": {
          "base_uri": "https://localhost:8080/"
        },
        "id": "IpWAk5MNs_2l",
        "outputId": "7680523b-1650-4df7-8f16-9441115e42d5"
      },
      "source": [
        "from google.colab import drive\n",
        "drive.mount('/content/drive')"
      ],
      "execution_count": null,
      "outputs": [
        {
          "output_type": "stream",
          "name": "stdout",
          "text": [
            "Mounted at /content/drive\n"
          ]
        }
      ]
    },
    {
      "cell_type": "code",
      "metadata": {
        "id": "LP9BT8wdsMm-"
      },
      "source": [
        "\n"
      ],
      "execution_count": null,
      "outputs": []
    },
    {
      "cell_type": "code",
      "metadata": {
        "colab": {
          "base_uri": "https://localhost:8080/"
        },
        "id": "IsO65C6YtD9N",
        "outputId": "042034b3-7298-439b-b659-46e854fddee1"
      },
      "source": [
        "path = '/content/drive/MyDrive/Colab Notebooks/net-sample.txt'\n",
        "\n",
        "left=[]\n",
        "right=[]\n",
        "d={}\n",
        "read_file=open(path,'r')\n",
        "split= [line.strip() for line in read_file]\n",
        "for line in split:\n",
        "  left.append(line.split(' ')[0].strip())\n",
        "  right.append(line.split(' ')[1].strip())\n",
        "#print d\n",
        "print(left)\n",
        "print(right)"
      ],
      "execution_count": null,
      "outputs": [
        {
          "output_type": "stream",
          "name": "stdout",
          "text": [
            "['17', '32', '18', '22', '26', '22', '41', '40', '22', '14', '16', '43', '36', '5', '23', '30', '48', '12', '16', '25', '35', '19', '28', '2', '27', '30', '30', '22', '35', '12', '43', '22', '2', '9', '51', '28', '12', '5', '22', '50', '49', '49', '49', '2', '43', '28', '50', '44', '3', '12', '12', '30', '22', '16', '25', '52', '20', '48', '39', '5', '51', '5', '35', '35', '50', '46', '17', '7', '6', '4', '22', '20', '2', '2', '45', '29', '43', '50', '16', '28', '42', '16', '39', '31', '42', '14', '50', '31', '35', '30', '30', '16', '5', '41', '22', '52', '28', '23', '5', '6', '17', '22', '5', '8', '24', '30', '38', '26', '26', '4', '45', '43', '46', '30', '11', '41', '40', '4', '25', '2', '25', '44', '29', '28', '52', '35', '20', '23', '49', '44', '2', '51', '23', '50', '40', '26', '45', '18', '44', '46', '34', '30', '25', '12', '23', '40']\n",
            "['25', '49', '45', '31', '35', '43', '16', '23', '2', '41', '30', '42', '52', '20', '5', '44', '21', '16', '8', '30', '12', '8', '30', '20', '6', '41', '36', '23', '18', '18', '39', '35', '25', '48', '16', '2', '26', '50', '25', '45', '17', '42', '52', '48', '17', '51', '41', '2', '25', '2', '28', '22', '28', '18', '44', '43', '3', '44', '10', '3', '22', '14', '2', '41', '9', '12', '6', '1', '10', '29', '13', '23', '18', '14', '48', '38', '27', '2', '25', '16', '52', '26', '6', '30', '16', '3', '48', '28', '51', '2', '12', '19', '25', '2', '16', '2', '18', '52', '45', '40', '22', '42', '22', '47', '44', '35', '37', '51', '2', '38', '2', '10', '15', '14', '33', '48', '22', '37', '41', '23', '36', '41', '37', '35', '17', '16', '14', '43', '43', '50', '31', '12', '17', '24', '17', '22', '41', '51', '45', '42', '49', '45', '48', '22', '3', '43']\n"
          ]
        }
      ]
    },
    {
      "cell_type": "code",
      "metadata": {
        "colab": {
          "base_uri": "https://localhost:8080/",
          "height": 574
        },
        "id": "N4FBcjCCrSX6",
        "outputId": "c257bfa4-6ca9-4821-8941-6a2658261c93"
      },
      "source": [
        "import networkx\n",
        "from networkx import (\n",
        "    draw,\n",
        "    DiGraph,\n",
        "    Graph,\n",
        ")\n",
        "\n",
        "% matplotlib inline\n",
        "mynumbers = []\n",
        "left = []\n",
        "right = []\n",
        "weights = []\n",
        "\n",
        "with open(path) as f:\n",
        "    for line in f:\n",
        "        mynumbers.append([int(n) for n in line.strip().split(' ')])\n",
        "for pair in mynumbers:\n",
        "    try:\n",
        "        left.append(pair[0])\n",
        "        right.append(pair[1])\n",
        "        weights.append(1) \n",
        "    except IndexError:\n",
        "        print (\"A line in the file doesn't have enough entries.\")\n",
        "\n",
        "print(left)\n",
        "print(right)\n",
        "\n",
        "undirected = Graph()\n",
        "undirected.add_weighted_edges_from(list(zip(left, right,weights)))\n",
        "draw(undirected, with_labels=True)\n",
        "\n",
        "\n",
        "from networkx.algorithms.bipartite.centrality import degree_centrality\n",
        "close_centrality = networkx.closeness_centrality(undirected)\n",
        "degree_centralty = networkx.degree_centrality(undirected)\n",
        "\n",
        "degrees = [val for (node, val) in sorted(undirected.degree(), key=lambda pair: pair[0])]\n",
        "\n",
        "print(\"is the graph connected \"+ str(networkx.is_connected(undirected)))\n",
        "print(\"Density of the graph \"+str(networkx.density(undirected)))\n",
        "print(\"Number of Connected components \"+str(networkx.number_connected_components(undirected)))\n",
        "print(\"Maximum node degree:\"+ str(max(degrees)))\n",
        "print(\"Diameter: is infinity due to the presense of disconnected components in graph\")\n",
        "\n",
        "\n",
        "print(\"Degree centralities\"+ str(degree_centralty))\n",
        "print(\"Closeness centrality\" + str(close_centrality))\n",
        "print(\"------Connected component lists--------\")\n",
        "\n",
        "\n",
        "for component in networkx.connected_components(undirected):\n",
        "    print(component)\n",
        "\n"
      ],
      "execution_count": null,
      "outputs": [
        {
          "output_type": "stream",
          "name": "stdout",
          "text": [
            "[17, 32, 18, 22, 26, 22, 41, 40, 22, 14, 16, 43, 36, 5, 23, 30, 48, 12, 16, 25, 35, 19, 28, 2, 27, 30, 30, 22, 35, 12, 43, 22, 2, 9, 51, 28, 12, 5, 22, 50, 49, 49, 49, 2, 43, 28, 50, 44, 3, 12, 12, 30, 22, 16, 25, 52, 20, 48, 39, 5, 51, 5, 35, 35, 50, 46, 17, 7, 6, 4, 22, 20, 2, 2, 45, 29, 43, 50, 16, 28, 42, 16, 39, 31, 42, 14, 50, 31, 35, 30, 30, 16, 5, 41, 22, 52, 28, 23, 5, 6, 17, 22, 5, 8, 24, 30, 38, 26, 26, 4, 45, 43, 46, 30, 11, 41, 40, 4, 25, 2, 25, 44, 29, 28, 52, 35, 20, 23, 49, 44, 2, 51, 23, 50, 40, 26, 45, 18, 44, 46, 34, 30, 25, 12, 23, 40]\n",
            "[25, 49, 45, 31, 35, 43, 16, 23, 2, 41, 30, 42, 52, 20, 5, 44, 21, 16, 8, 30, 12, 8, 30, 20, 6, 41, 36, 23, 18, 18, 39, 35, 25, 48, 16, 2, 26, 50, 25, 45, 17, 42, 52, 48, 17, 51, 41, 2, 25, 2, 28, 22, 28, 18, 44, 43, 3, 44, 10, 3, 22, 14, 2, 41, 9, 12, 6, 1, 10, 29, 13, 23, 18, 14, 48, 38, 27, 2, 25, 16, 52, 26, 6, 30, 16, 3, 48, 28, 51, 2, 12, 19, 25, 2, 16, 2, 18, 52, 45, 40, 22, 42, 22, 47, 44, 35, 37, 51, 2, 38, 2, 10, 15, 14, 33, 48, 22, 37, 41, 23, 36, 41, 37, 35, 17, 16, 14, 43, 43, 50, 31, 12, 17, 24, 17, 22, 41, 51, 45, 42, 49, 45, 48, 22, 3, 43]\n",
            "is the graph connected False\n",
            "Density of the graph 0.11010558069381599\n",
            "Number of Connected components 4\n",
            "Maximum node degree:18\n",
            "Diameter: is infinity due to the presense of disconnected components in graph\n",
            "Degree centralities{17: 0.1568627450980392, 25: 0.21568627450980393, 32: 0.0196078431372549, 49: 0.11764705882352941, 18: 0.13725490196078433, 45: 0.1568627450980392, 22: 0.3333333333333333, 31: 0.0784313725490196, 26: 0.11764705882352941, 35: 0.19607843137254902, 43: 0.19607843137254902, 41: 0.19607843137254902, 16: 0.2549019607843137, 40: 0.09803921568627451, 23: 0.1764705882352941, 2: 0.3529411764705882, 14: 0.11764705882352941, 30: 0.2549019607843137, 42: 0.11764705882352941, 36: 0.058823529411764705, 52: 0.13725490196078433, 5: 0.1568627450980392, 20: 0.09803921568627451, 44: 0.1568627450980392, 48: 0.1568627450980392, 21: 0.0196078431372549, 12: 0.19607843137254902, 8: 0.058823529411764705, 19: 0.0392156862745098, 28: 0.1764705882352941, 27: 0.0392156862745098, 6: 0.09803921568627451, 39: 0.058823529411764705, 9: 0.0392156862745098, 51: 0.13725490196078433, 50: 0.1568627450980392, 3: 0.09803921568627451, 10: 0.058823529411764705, 46: 0.058823529411764705, 7: 0.0196078431372549, 1: 0.0196078431372549, 4: 0.058823529411764705, 29: 0.058823529411764705, 13: 0.0196078431372549, 38: 0.058823529411764705, 47: 0.0196078431372549, 24: 0.0392156862745098, 37: 0.058823529411764705, 15: 0.0196078431372549, 11: 0.0196078431372549, 33: 0.0196078431372549, 34: 0.0196078431372549}\n",
            "Closeness centrality{17: 0.394075021312873, 25: 0.43160597572362275, 32: 0.24009868848201532, 49: 0.33261377945673687, 18: 0.3519893394250904, 45: 0.3519893394250904, 22: 0.47703818369453044, 31: 0.35544021530180697, 26: 0.3776552287581699, 35: 0.39840551605257485, 43: 0.3856904463913225, 41: 0.3816305469556244, 16: 0.43160597572362275, 40: 0.348604826546003, 23: 0.40735844899757656, 2: 0.45892280963018117, 14: 0.33261377945673687, 30: 0.4215686274509804, 42: 0.3816305469556244, 36: 0.3420273769885313, 52: 0.40735844899757656, 5: 0.3816305469556244, 20: 0.3356935366739288, 44: 0.35544021530180697, 48: 0.35544021530180697, 21: 0.2517701525054466, 12: 0.4028322440087146, 8: 0.2947553004941814, 19: 0.2923782416192284, 28: 0.394075021312873, 27: 0.27055896985659933, 6: 0.28547166898255366, 39: 0.272593247825446, 9: 0.25712696426088166, 51: 0.348604826546003, 50: 0.3452847805788982, 3: 0.32662073838544425, 10: 0.272593247825446, 46: 0.3098709569297805, 7: 0.0196078431372549, 1: 0.0196078431372549, 4: 0.058823529411764705, 29: 0.058823529411764705, 13: 0.3072449318710535, 38: 0.058823529411764705, 47: 0.21972667855020797, 24: 0.25712696426088166, 37: 0.058823529411764705, 15: 0.2280182513256875, 11: 0.0196078431372549, 33: 0.0196078431372549, 34: 0.24009868848201532}\n",
            "------Connected component lists--------\n",
            "{2, 3, 5, 6, 8, 9, 10, 12, 13, 14, 15, 16, 17, 18, 19, 20, 21, 22, 23, 24, 25, 26, 27, 28, 30, 31, 32, 34, 35, 36, 39, 40, 41, 42, 43, 44, 45, 46, 47, 48, 49, 50, 51, 52}\n",
            "{1, 7}\n",
            "{29, 4, 37, 38}\n",
            "{33, 11}\n"
          ]
        },
        {
          "output_type": "display_data",
          "data": {
            "image/png": "[encoded data removed]",
            "text/plain": [
              "<Figure size 432x288 with 1 Axes>"
            ]
          },
          "metadata": {}
        }
      ]
    },
    {
      "cell_type": "code",
      "metadata": {
        "id": "tPSv13As2GxE"
      },
      "source": [
        "list = [1=[0.0196078431372549], 2=[0.45892280963018117], 3=[0.32662073838544425], 4=[0.058823529411764705], 5=[0.3816305469556244], 6=[0.28547166898255366], 7=[0.0196078431372549], 8=[0.2947553004941814], 9=[0.25712696426088166], 10=[0.272593247825446], 11=[0.0196078431372549], 12=[0.4028322440087146], 13=[0.3072449318710535], 14=[0.33261377945673687], 15=[0.2280182513256875], 16=[0.43160597572362275], 17=[0.394075021312873], 18=[0.3519893394250904], 19=[0.2923782416192284], 20=[0.3356935366739288], 21=[0.2517701525054466], 22=[0.47703818369453044], 23=[0.40735844899757656], 24=[0.25712696426088166], 25=[0.43160597572362275], 26=[0.3776552287581699], 27=[0.27055896985659933], 28=[0.394075021312873], 29=[0.058823529411764705], 30=[0.4215686274509804], 31=[0.35544021530180697], 32=[0.24009868848201532], 33=[0.0196078431372549], 34=[0.24009868848201532], 35=[0.39840551605257485], 36=[0.3420273769885313], 37=[0.058823529411764705], 38=[0.058823529411764705], 39=[0.272593247825446], 40=[0.348604826546003], 41=[0.3816305469556244], 42=[0.3816305469556244], 43=[0.3856904463913225], 44=[0.35544021530180697], 45=[0.3519893394250904], 46=[0.3098709569297805], 47=[0.21972667855020797], 48=[0.35544021530180697], 49=[0.33261377945673687], 50=[0.3452847805788982], 51=[0.348604826546003], 52=[0.40735844899757656]\n"
      ],
      "execution_count": null,
      "outputs": []
    },
    {
      "cell_type": "markdown",
      "metadata": {
        "id": "6W-bNqPWnSX0"
      },
      "source": []
    }
  ]
}